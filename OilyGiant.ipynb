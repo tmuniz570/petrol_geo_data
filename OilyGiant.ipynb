{
 "cells": [
  {
   "cell_type": "code",
   "execution_count": 1,
   "id": "497b97fc",
   "metadata": {},
   "outputs": [],
   "source": [
    "# \n",
    "import pandas as pd\n",
    "import numpy as np\n",
    "from sklearn.model_selection import train_test_split\n",
    "from sklearn.linear_model import LinearRegression\n",
    "from sklearn.metrics import root_mean_squared_error\n",
    "from matplotlib import pyplot as plt"
   ]
  },
  {
   "cell_type": "code",
   "execution_count": 2,
   "id": "948a83c0",
   "metadata": {},
   "outputs": [],
   "source": [
    "geo_data_0 = pd.read_csv('./geo_data_0.csv')\n",
    "geo_data_1 = pd.read_csv('./geo_data_1.csv')\n",
    "geo_data_2 = pd.read_csv('./geo_data_2.csv')"
   ]
  },
  {
   "cell_type": "code",
   "execution_count": 3,
   "id": "cc3852b9",
   "metadata": {},
   "outputs": [
    {
     "name": "stdout",
     "output_type": "stream",
     "text": [
      "<class 'pandas.core.frame.DataFrame'>\n",
      "RangeIndex: 100000 entries, 0 to 99999\n",
      "Data columns (total 5 columns):\n",
      " #   Column   Non-Null Count   Dtype  \n",
      "---  ------   --------------   -----  \n",
      " 0   id       100000 non-null  object \n",
      " 1   f0       100000 non-null  float64\n",
      " 2   f1       100000 non-null  float64\n",
      " 3   f2       100000 non-null  float64\n",
      " 4   product  100000 non-null  float64\n",
      "dtypes: float64(4), object(1)\n",
      "memory usage: 3.8+ MB\n",
      "<class 'pandas.core.frame.DataFrame'>\n",
      "RangeIndex: 100000 entries, 0 to 99999\n",
      "Data columns (total 5 columns):\n",
      " #   Column   Non-Null Count   Dtype  \n",
      "---  ------   --------------   -----  \n",
      " 0   id       100000 non-null  object \n",
      " 1   f0       100000 non-null  float64\n",
      " 2   f1       100000 non-null  float64\n",
      " 3   f2       100000 non-null  float64\n",
      " 4   product  100000 non-null  float64\n",
      "dtypes: float64(4), object(1)\n",
      "memory usage: 3.8+ MB\n",
      "<class 'pandas.core.frame.DataFrame'>\n",
      "RangeIndex: 100000 entries, 0 to 99999\n",
      "Data columns (total 5 columns):\n",
      " #   Column   Non-Null Count   Dtype  \n",
      "---  ------   --------------   -----  \n",
      " 0   id       100000 non-null  object \n",
      " 1   f0       100000 non-null  float64\n",
      " 2   f1       100000 non-null  float64\n",
      " 3   f2       100000 non-null  float64\n",
      " 4   product  100000 non-null  float64\n",
      "dtypes: float64(4), object(1)\n",
      "memory usage: 3.8+ MB\n"
     ]
    }
   ],
   "source": [
    "geo_data_0.info()\n",
    "geo_data_1.info()\n",
    "geo_data_2.info()"
   ]
  },
  {
   "cell_type": "code",
   "execution_count": 4,
   "id": "dd87fb15",
   "metadata": {},
   "outputs": [
    {
     "data": {
      "text/plain": [
       "(75000, 5)"
      ]
     },
     "metadata": {},
     "output_type": "display_data"
    },
    {
     "data": {
      "text/plain": [
       "(25000,)"
      ]
     },
     "metadata": {},
     "output_type": "display_data"
    }
   ],
   "source": [
    "geo_data_0_target = geo_data_0['product']\n",
    "geo_data_0_features = geo_data_0\n",
    "geo_data_0_features_train, geo_data_0_features_test, geo_data_0_target_train, geo_data_0_target_test = train_test_split(geo_data_0_features, geo_data_0_target, train_size=0.75, random_state=12345)\n",
    "display(geo_data_0_features_train.shape, geo_data_0_target_test.shape)"
   ]
  },
  {
   "cell_type": "code",
   "execution_count": 5,
   "id": "1ad7264b",
   "metadata": {},
   "outputs": [],
   "source": [
    "model_0 = LinearRegression()\n",
    "model_0.fit(geo_data_0_features_train[['f0', 'f1', 'f2']], geo_data_0_target_train)\n",
    "geo_data_0_features_test['predict'] = model_0.predict(geo_data_0_features_test[['f0', 'f1', 'f2']])"
   ]
  },
  {
   "cell_type": "code",
   "execution_count": 6,
   "id": "7927691f",
   "metadata": {},
   "outputs": [
    {
     "data": {
      "text/plain": [
       "92.59256778438035"
      ]
     },
     "metadata": {},
     "output_type": "display_data"
    },
    {
     "data": {
      "text/plain": [
       "37.5794217150813"
      ]
     },
     "metadata": {},
     "output_type": "display_data"
    }
   ],
   "source": [
    "display(geo_data_0_features_test['predict'].mean(), root_mean_squared_error(geo_data_0_target_test, geo_data_0_features_test['predict']))"
   ]
  },
  {
   "cell_type": "markdown",
   "id": "e547dc80",
   "metadata": {},
   "source": [
    "Temos a media das predicoes em 92.59 e o REQM 37.58, logo observamos uma longa distancia media, cerca de 1/3 distante da media real, o que e uma previsao muito ruim."
   ]
  },
  {
   "cell_type": "code",
   "execution_count": 7,
   "id": "c2623c65",
   "metadata": {},
   "outputs": [
    {
     "data": {
      "text/plain": [
       "(75000, 5)"
      ]
     },
     "metadata": {},
     "output_type": "display_data"
    },
    {
     "data": {
      "text/plain": [
       "(25000,)"
      ]
     },
     "metadata": {},
     "output_type": "display_data"
    }
   ],
   "source": [
    "geo_data_1_target = geo_data_1['product']\n",
    "geo_data_1_features = geo_data_1\n",
    "geo_data_1_features_train, geo_data_1_features_test, geo_data_1_target_train, geo_data_1_target_test = train_test_split(geo_data_1_features, geo_data_1_target, train_size=0.75, random_state=12345)\n",
    "display(geo_data_1_features_train.shape, geo_data_1_target_test.shape)"
   ]
  },
  {
   "cell_type": "code",
   "execution_count": 8,
   "id": "d4ac061a",
   "metadata": {},
   "outputs": [],
   "source": [
    "model_1 = LinearRegression()\n",
    "model_1.fit(geo_data_1_features_train[['f0', 'f1', 'f2']], geo_data_1_target_train)\n",
    "geo_data_1_features_test['predict'] = model_1.predict(geo_data_1_features_test[['f0', 'f1', 'f2']])"
   ]
  },
  {
   "cell_type": "code",
   "execution_count": 9,
   "id": "6ce89c7b",
   "metadata": {},
   "outputs": [
    {
     "data": {
      "text/plain": [
       "68.72854689544599"
      ]
     },
     "metadata": {},
     "output_type": "display_data"
    },
    {
     "data": {
      "text/plain": [
       "0.8930992867756169"
      ]
     },
     "metadata": {},
     "output_type": "display_data"
    }
   ],
   "source": [
    "display(geo_data_1_features_test['predict'].mean(), root_mean_squared_error(geo_data_1_target_test, geo_data_1_features_test['predict']))"
   ]
  },
  {
   "cell_type": "markdown",
   "id": "a485081f",
   "metadata": {},
   "source": [
    "Temos uma media de previsao em 68.73 e um REQM de 0.89, o que parece muito bom pra ser verdade, mas e o que observamos."
   ]
  },
  {
   "cell_type": "code",
   "execution_count": 10,
   "id": "76d29e7c",
   "metadata": {},
   "outputs": [
    {
     "data": {
      "text/plain": [
       "(75000, 5)"
      ]
     },
     "metadata": {},
     "output_type": "display_data"
    },
    {
     "data": {
      "text/plain": [
       "(25000,)"
      ]
     },
     "metadata": {},
     "output_type": "display_data"
    }
   ],
   "source": [
    "geo_data_2_target = geo_data_2['product']\n",
    "geo_data_2_features = geo_data_2\n",
    "geo_data_2_features_train, geo_data_2_features_test, geo_data_2_target_train, geo_data_2_target_test = train_test_split(geo_data_2_features, geo_data_2_target, train_size=0.75, random_state=12345)\n",
    "display(geo_data_2_features_train.shape, geo_data_2_target_test.shape)"
   ]
  },
  {
   "cell_type": "code",
   "execution_count": 11,
   "id": "958c3af2",
   "metadata": {},
   "outputs": [],
   "source": [
    "model_2 = LinearRegression()\n",
    "model_2.fit(geo_data_2_features_train[['f0', 'f1', 'f2']], geo_data_2_target_train)\n",
    "geo_data_2_features_test['predict'] = model_2.predict(geo_data_2_features_test[['f0', 'f1', 'f2']])"
   ]
  },
  {
   "cell_type": "code",
   "execution_count": 12,
   "id": "85e14bdf",
   "metadata": {},
   "outputs": [
    {
     "data": {
      "text/plain": [
       "94.96504596800489"
      ]
     },
     "metadata": {},
     "output_type": "display_data"
    },
    {
     "data": {
      "text/plain": [
       "40.02970873393434"
      ]
     },
     "metadata": {},
     "output_type": "display_data"
    }
   ],
   "source": [
    "display(geo_data_2_features_test['predict'].mean(), root_mean_squared_error(geo_data_2_target_test, geo_data_2_features_test['predict']))"
   ]
  },
  {
   "cell_type": "markdown",
   "id": "877a24be",
   "metadata": {},
   "source": [
    "Temos a media das predicoes em 94.96 e o REQM 40.03, logo observamos uma longa distancia media, quase 1/2 distante da media real, o que e uma previsao muito ruim."
   ]
  },
  {
   "cell_type": "code",
   "execution_count": 13,
   "id": "fa319ea3",
   "metadata": {},
   "outputs": [
    {
     "data": {
      "text/plain": [
       "92.50000000000001"
      ]
     },
     "metadata": {},
     "output_type": "display_data"
    },
    {
     "data": {
      "text/plain": [
       "68.82500000000002"
      ]
     },
     "metadata": {},
     "output_type": "display_data"
    },
    {
     "data": {
      "text/plain": [
       "95.00000000000004"
      ]
     },
     "metadata": {},
     "output_type": "display_data"
    },
    {
     "name": "stdout",
     "output_type": "stream",
     "text": [
      "A regiao 0 produz em media -18.60 unidades do que o esperado.\n",
      "A regiao 1 produz em media -42.27 unidades do que o esperado.\n",
      "A regiao 2 produz em media -16.10 unidades do que o esperado.\n"
     ]
    }
   ],
   "source": [
    "geo_0_mean = geo_data_0['product'].mean()\n",
    "geo_1_mean = geo_data_1['product'].mean()\n",
    "geo_2_mean = geo_data_2['product'].mean()\n",
    "display(geo_0_mean, geo_1_mean, geo_2_mean)\n",
    "print(f\"A regiao 0 produz em media {(geo_0_mean - 111.1):.2f} unidades do que o esperado.\")\n",
    "print(f\"A regiao 1 produz em media {(geo_1_mean - 111.1):.2f} unidades do que o esperado.\")\n",
    "print(f\"A regiao 2 produz em media {(geo_2_mean - 111.1):.2f} unidades do que o esperado.\")"
   ]
  },
  {
   "cell_type": "markdown",
   "id": "ca7b45bc",
   "metadata": {},
   "source": [
    "Calculei as medias de cada regiao e comparei com o valor minimo necessario para dar lucro, os pocos nas 3 regioes dao em media prejuizo."
   ]
  },
  {
   "cell_type": "code",
   "execution_count": 14,
   "id": "51a9d0c3",
   "metadata": {},
   "outputs": [
    {
     "name": "stdout",
     "output_type": "stream",
     "text": [
      "$33,208,260.43\n",
      "$24,150,866.97\n",
      "$27,103,499.64\n"
     ]
    }
   ],
   "source": [
    "def profit_geo_data_top_200(geo_data):\n",
    "    top_200 = geo_data.sort_values(by='predict')['product'][-200:]\n",
    "    return top_200.sum() * 4500 - 100000000\n",
    "\n",
    "print(f\"${(profit_geo_data_top_200(geo_data_0_features_test)):,.2f}\")\n",
    "print(f\"${(profit_geo_data_top_200(geo_data_1_features_test)):,.2f}\")\n",
    "print(f\"${(profit_geo_data_top_200(geo_data_2_features_test)):,.2f}\")"
   ]
  },
  {
   "cell_type": "markdown",
   "id": "06a72019",
   "metadata": {},
   "source": [
    "Apos as apuracoes conclui que a localizacao 0 e mais promissora que as demais de acordo com o observado pelas 200 melhores previsoes de cada regiao."
   ]
  },
  {
   "cell_type": "code",
   "execution_count": 15,
   "id": "5ebe1c3a",
   "metadata": {},
   "outputs": [],
   "source": [
    "def bootstrap(geo_data):\n",
    "    N_ITER = 1000\n",
    "    profits = []\n",
    "    for n in range(N_ITER):\n",
    "        subsample = geo_data.sample(n=500, replace=True)\n",
    "        profits.append(profit_geo_data_top_200(subsample))\n",
    "    return np.array(profits)\n",
    "\n",
    "profits_geo = [bootstrap(geo_data) for geo_data in [geo_data_0_features_test, geo_data_1_features_test, geo_data_2_features_test]]"
   ]
  },
  {
   "cell_type": "code",
   "execution_count": 16,
   "id": "9388e1b4",
   "metadata": {},
   "outputs": [
    {
     "name": "stdout",
     "output_type": "stream",
     "text": [
      "Regiao 0:\n",
      "Lucro Medio: 3,912,563.94\n",
      "Risco:6.60%\n",
      "Intervalo de probabilidade de encontrar 95% dos dados:[-1,211,756.16, 8,843,710.79]\n",
      "\n",
      "Regiao 1:\n",
      "Lucro Medio: 4,574,206.55\n",
      "Risco:1.60%\n",
      "Intervalo de probabilidade de encontrar 95% dos dados:[360,130.54, 8,687,475.30]\n",
      "\n",
      "Regiao 2:\n",
      "Lucro Medio: 3,938,971.86\n",
      "Risco:6.50%\n",
      "Intervalo de probabilidade de encontrar 95% dos dados:[-1,289,002.86, 9,210,669.14]\n",
      "\n"
     ]
    }
   ],
   "source": [
    "for i, profit in enumerate(profits_geo):\n",
    "    mean_profit = profit.mean()\n",
    "    risk = (profit < 0).mean()\n",
    "    conf_interval = np.quantile(profit, [0.025, 0.975])\n",
    "    print(f\"Regiao {i}:\\nLucro Medio: {mean_profit:,.2f}\\nRisco:{(risk*100):.2f}%\\nIntervalo de probabilidade de encontrar 95% dos dados:[{conf_interval[0]:,.2f}, {conf_interval[1]:,.2f}]\\n\")"
   ]
  },
  {
   "cell_type": "markdown",
   "id": "7210a121",
   "metadata": {},
   "source": [
    "Apos analizar a os dados por regial num intervalo de confianca de 95% e calcular seu lucro medio e o risco de dar prejuizo usando bootstrap, observamos que por mais improvavel que pareceu antariormente a regiao 1 surpreendeu e apresentou os melhores resultados em todos os quesitos. A regiao 1 seria a escolhida."
   ]
  }
 ],
 "metadata": {
  "kernelspec": {
   "display_name": "base",
   "language": "python",
   "name": "python3"
  },
  "language_info": {
   "codemirror_mode": {
    "name": "ipython",
    "version": 3
   },
   "file_extension": ".py",
   "mimetype": "text/x-python",
   "name": "python",
   "nbconvert_exporter": "python",
   "pygments_lexer": "ipython3",
   "version": "3.12.7"
  }
 },
 "nbformat": 4,
 "nbformat_minor": 5
}
